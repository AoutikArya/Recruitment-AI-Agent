{
 "cells": [
  {
   "cell_type": "code",
   "execution_count": 5,
   "id": "2c1ff435",
   "metadata": {},
   "outputs": [
    {
     "data": {
      "text/plain": [
       "True"
      ]
     },
     "execution_count": 5,
     "metadata": {},
     "output_type": "execute_result"
    }
   ],
   "source": [
    "from typing import Annotated,Sequence\n",
    "from typing_extensions import TypedDict\n",
    "from dotenv import load_dotenv\n",
    "from langchain_core.messages import BaseMessage\n",
    "from langchain_core.messages import ToolMessage\n",
    "from langchain_core.messages import HumanMessage,SystemMessage\n",
    "from langchain_core.tools import tool\n",
    "from langgraph.graph.message import add_messages\n",
    "from langgraph.graph import StateGraph,START,END\n",
    "from langgraph.prebuilt import ToolNode, tools_condition\n",
    "load_dotenv()\n"
   ]
  },
  {
   "cell_type": "code",
   "execution_count": 8,
   "id": "d157dd95",
   "metadata": {},
   "outputs": [
    {
     "data": {
      "text/plain": [
       "ChatGroq(client=<groq.resources.chat.completions.Completions object at 0x0000018923356D70>, async_client=<groq.resources.chat.completions.AsyncCompletions object at 0x0000018923354850>, model_name='llama-3.3-70b-versatile', model_kwargs={}, groq_api_key=SecretStr('**********'))"
      ]
     },
     "execution_count": 8,
     "metadata": {},
     "output_type": "execute_result"
    }
   ],
   "source": [
    "from langchain_groq import ChatGroq\n",
    "llm=ChatGroq(model='llama-3.3-70b-versatile')\n",
    "llm"
   ]
  },
  {
   "cell_type": "code",
   "execution_count": 4,
   "id": "d2626977",
   "metadata": {},
   "outputs": [],
   "source": [
    "# load_dotenv\n",
    "# llm = HuggingFaceEndpoint(\n",
    "#     repo_id=\"microsoft/Phi-3-mini-4k-instruct\",\n",
    "#     task=\"text-generation\",\n",
    "#     max_new_tokens=512,\n",
    "#     do_sample=False,\n",
    "#     repetition_penalty=1.03,\n",
    "# )\n",
    "# chat_model=ChatHuggingFace(llm=llm)"
   ]
  },
  {
   "cell_type": "code",
   "execution_count": 5,
   "id": "ad702fa3",
   "metadata": {},
   "outputs": [],
   "source": [
    "class AgentState(TypedDict):\n",
    "    messages: Annotated[Sequence[BaseMessage],add_messages]"
   ]
  },
  {
   "cell_type": "code",
   "execution_count": 6,
   "id": "1b9737b0",
   "metadata": {},
   "outputs": [],
   "source": [
    "@tool\n",
    "def add(a:int,b:int)->int:\n",
    "    \"\"\"Add two number\"\"\"\n",
    "    return a+b\n",
    "tools=[add]\n",
    "model=llm.bind_tools(tools)"
   ]
  },
  {
   "cell_type": "code",
   "execution_count": 7,
   "id": "b9b90c01",
   "metadata": {},
   "outputs": [
    {
     "data": {
      "text/plain": [
       "RunnableBinding(bound=ChatGroq(client=<groq.resources.chat.completions.Completions object at 0x000002043B870E50>, async_client=<groq.resources.chat.completions.AsyncCompletions object at 0x000002043DE10580>, model_name='llama-3.3-70b-versatile', model_kwargs={}, groq_api_key=SecretStr('**********')), kwargs={'tools': [{'type': 'function', 'function': {'name': 'add', 'description': 'Add two number', 'parameters': {'properties': {'a': {'type': 'integer'}, 'b': {'type': 'integer'}}, 'required': ['a', 'b'], 'type': 'object'}}}]}, config={}, config_factories=[])"
      ]
     },
     "execution_count": 7,
     "metadata": {},
     "output_type": "execute_result"
    }
   ],
   "source": [
    "model"
   ]
  },
  {
   "cell_type": "code",
   "execution_count": 8,
   "id": "574404be",
   "metadata": {},
   "outputs": [],
   "source": [
    "def model_call(state:AgentState)->AgentState:\n",
    "    \"\"\"call the agent\"\"\"\n",
    "    system_prompt=    SystemMessage(content=\"You're a AI assistant, please answer my query to the best of your ability.\")\n",
    "    response=model.invoke([system_prompt]+state['messages'])\n",
    "    return {'messages':response}\n",
    "\n",
    "def should_continue(state:AgentState):  \n",
    "    messages=state['messages']\n",
    "    last_message=messages[-1]\n",
    "    if not  last_message.tool_calls:\n",
    "        return 'end'\n",
    "    else:\n",
    "        return 'continue'\n"
   ]
  },
  {
   "cell_type": "code",
   "execution_count": 9,
   "id": "deb0d69c",
   "metadata": {},
   "outputs": [
    {
     "data": {
      "image/png": "[encoded data removed]",
      "text/plain": [
       "<langgraph.graph.state.CompiledStateGraph object at 0x000002043DFFBA00>"
      ]
     },
     "execution_count": 9,
     "metadata": {},
     "output_type": "execute_result"
    }
   ],
   "source": [
    "graph=StateGraph(AgentState)\n",
    "graph.add_node('our_agent',model_call)\n",
    "tool_node=ToolNode(tools=tools)\n",
    "graph.add_node('tools',tool_node)\n",
    "graph.set_entry_point('our_agent')\n",
    "graph.add_conditional_edges('our_agent',\n",
    "                            should_continue,\n",
    "                            {'continue':'tools',\n",
    "                             'end':END})\n",
    "graph.add_edge('tools','our_agent')\n",
    "app=graph.compile()\n",
    "app"
   ]
  },
  {
   "cell_type": "code",
   "execution_count": 10,
   "id": "a88ab9ca",
   "metadata": {},
   "outputs": [],
   "source": [
    "def print_stream(stream):\n",
    "    for s in stream:\n",
    "        message=s['messages'][-1]\n",
    "        if isinstance(message,tuple):\n",
    "            print(message)\n",
    "        else:\n",
    "            message.pretty_print()"
   ]
  },
  {
   "cell_type": "code",
   "execution_count": 11,
   "id": "6957eb28",
   "metadata": {},
   "outputs": [
    {
     "name": "stdout",
     "output_type": "stream",
     "text": [
      "================================\u001b[1m Human Message \u001b[0m=================================\n",
      "\n",
      "add 3+4\n",
      "==================================\u001b[1m Ai Message \u001b[0m==================================\n",
      "Tool Calls:\n",
      "  add (gdvytxbq5)\n",
      " Call ID: gdvytxbq5\n",
      "  Args:\n",
      "    a: 3\n",
      "    b: 4\n",
      "=================================\u001b[1m Tool Message \u001b[0m=================================\n",
      "Name: add\n",
      "\n",
      "7\n",
      "==================================\u001b[1m Ai Message \u001b[0m==================================\n",
      "\n",
      "The result of 3+4 is 7.\n"
     ]
    }
   ],
   "source": [
    "input={'messages':[\"user\",\"add 3+4\"]}\n",
    "print_stream(app.stream(input,stream_mode='values'))"
   ]
  },
  {
   "cell_type": "code",
   "execution_count": 12,
   "id": "cc4c7763",
   "metadata": {},
   "outputs": [
    {
     "name": "stdout",
     "output_type": "stream",
     "text": [
      "================================\u001b[1m Human Message \u001b[0m=================================\n",
      "\n",
      "Add 40 + 12 and then multiply the result by 6.\n",
      "==================================\u001b[1m Ai Message \u001b[0m==================================\n",
      "Tool Calls:\n",
      "  add (42rymysrs)\n",
      " Call ID: 42rymysrs\n",
      "  Args:\n",
      "    a: 40\n",
      "    b: 12\n",
      "  multiply (bnyrht7c1)\n",
      " Call ID: bnyrht7c1\n",
      "  Args:\n",
      "    a: 52\n",
      "    b: 6\n",
      "=================================\u001b[1m Tool Message \u001b[0m=================================\n",
      "Name: multiply\n",
      "\n",
      "312\n",
      "==================================\u001b[1m Ai Message \u001b[0m==================================\n",
      "\n",
      "The result of adding 40 and 12 is 52. Then, multiplying 52 by 6 gives 312.\n"
     ]
    }
   ],
   "source": [
    "from typing import Annotated, Sequence, TypedDict\n",
    "from dotenv import load_dotenv  \n",
    "from langchain_core.messages import BaseMessage # The foundational class for all message types in LangGraph\n",
    "from langchain_core.messages import ToolMessage # Passes data back to LLM after it calls a tool such as the content and the tool_call_id\n",
    "from langchain_core.messages import SystemMessage # Message for providing instructions to the LLM\n",
    "# from langchain_openai import ChatOpenAI\n",
    "from langchain_core.tools import tool\n",
    "from langgraph.graph.message import add_messages\n",
    "from langgraph.graph import StateGraph, END\n",
    "from langgraph.prebuilt import ToolNode\n",
    "from langchain_huggingface import ChatHuggingFace, HuggingFaceEndpoint\n",
    "\n",
    "\n",
    "load_dotenv()\n",
    "\n",
    "class AgentState(TypedDict):\n",
    "    messages: Annotated[Sequence[BaseMessage], add_messages]\n",
    "\n",
    "\n",
    "@tool\n",
    "def add(a: int, b:int):\n",
    "    \"\"\"This is an addition function that adds 2 numbers together\"\"\"\n",
    "\n",
    "    return a + b \n",
    "\n",
    "@tool\n",
    "def subtract(a: int, b: int):\n",
    "    \"\"\"Subtraction function\"\"\"\n",
    "    return a - b\n",
    "\n",
    "@tool\n",
    "def multiply(a: int, b: int):\n",
    "    \"\"\"Multiplication function\"\"\"\n",
    "    return a * b\n",
    "\n",
    "tools = [add, subtract, multiply]\n",
    "# llm = HuggingFaceEndpoint(\n",
    "#     repo_id=\"meta-llama/Llama-3.1-8B-Instruct\",\n",
    "#     task=\"text-generation\",\n",
    "#     max_new_tokens=512,\n",
    "#     do_sample=False,\n",
    "#     repetition_penalty=1.03,\n",
    "# )\n",
    "# chat_model=ChatHuggingFace(llm=llm)\n",
    "\n",
    "model = llm.bind_tools(tools)\n",
    "\n",
    "\n",
    "def model_call(state:AgentState) -> AgentState:\n",
    "    system_prompt = SystemMessage(content=\n",
    "        \"You are my AI assistant, please answer my query to the best of your ability.\"\n",
    "    )\n",
    "    response = model.invoke([system_prompt] + state[\"messages\"])\n",
    "    return {\"messages\": [response]}\n",
    "\n",
    "\n",
    "def should_continue(state: AgentState): \n",
    "    messages = state[\"messages\"]\n",
    "    last_message = messages[-1]\n",
    "    if not last_message.tool_calls: \n",
    "        return \"end\"\n",
    "    else:\n",
    "        return \"continue\"\n",
    "    \n",
    "\n",
    "graph = StateGraph(AgentState)\n",
    "graph.add_node(\"our_agent\", model_call)\n",
    "\n",
    "\n",
    "tool_node = ToolNode(tools=tools)\n",
    "graph.add_node(\"tools\", tool_node)\n",
    "\n",
    "graph.set_entry_point(\"our_agent\")\n",
    "\n",
    "graph.add_conditional_edges(\n",
    "    \"our_agent\",\n",
    "    should_continue,\n",
    "    {\n",
    "        \"continue\": \"tools\",\n",
    "        \"end\": END,\n",
    "    },\n",
    ")\n",
    "\n",
    "graph.add_edge(\"tools\", \"our_agent\")\n",
    "\n",
    "app = graph.compile()\n",
    "\n",
    "def print_stream(stream):\n",
    "    for s in stream:\n",
    "        message = s[\"messages\"][-1]\n",
    "        if isinstance(message, tuple):\n",
    "            print(message)\n",
    "        else:\n",
    "            message.pretty_print()\n",
    "\n",
    "inputs = {\"messages\": [(\"user\", \"Add 40 + 12 and then multiply the result by 6.\")]}\n",
    "print_stream(app.stream(inputs, stream_mode=\"values\"))"
   ]
  },
  {
   "cell_type": "markdown",
   "id": "31cb0b3e",
   "metadata": {},
   "source": [
    "## Basic Chatbot"
   ]
  },
  {
   "cell_type": "code",
   "execution_count": 3,
   "id": "cd4d9daf",
   "metadata": {},
   "outputs": [],
   "source": [
    "from langchain_core.tools import tool\n",
    "from typing_extensions import TypedDict\n",
    "import pandas as pd\n",
    "from langgraph.checkpoint.memory import InMemorySaver"
   ]
  },
  {
   "cell_type": "code",
   "execution_count": 17,
   "id": "596b60ac",
   "metadata": {},
   "outputs": [
    {
     "name": "stdout",
     "output_type": "stream",
     "text": [
      "bound=ChatGroq(client=<groq.resources.chat.completions.Completions object at 0x000002043B870E50>, async_client=<groq.resources.chat.completions.AsyncCompletions object at 0x000002043DE10580>, model_name='llama-3.3-70b-versatile', model_kwargs={}, groq_api_key=SecretStr('**********')) kwargs={'tools': [{'type': 'function', 'function': {'name': 'save_file', 'description': \"Save text messages to a file named 'read.txt'.\", 'parameters': {'properties': {'text': {'properties': {'messages': {'items': {}, 'type': 'array'}}, 'required': ['messages'], 'type': 'object'}}, 'required': ['text'], 'type': 'object'}}}, {'type': 'function', 'function': {'name': 'add', 'description': 'This is an addition function that adds 2 numbers together', 'parameters': {'properties': {'a': {'type': 'integer'}, 'b': {'type': 'integer'}}, 'required': ['a', 'b'], 'type': 'object'}}}, {'type': 'function', 'function': {'name': 'subtract', 'description': 'Subtraction function', 'parameters': {'properties': {'a': {'type': 'integer'}, 'b': {'type': 'integer'}}, 'required': ['a', 'b'], 'type': 'object'}}}, {'type': 'function', 'function': {'name': 'multiply', 'description': 'Multiplication function', 'parameters': {'properties': {'a': {'type': 'integer'}, 'b': {'type': 'integer'}}, 'required': ['a', 'b'], 'type': 'object'}}}]} config={} config_factories=[]\n"
     ]
    },
    {
     "data": {
      "image/png": "[encoded data removed]",
      "text/plain": [
       "<langgraph.graph.state.CompiledStateGraph object at 0x000002043E199630>"
      ]
     },
     "execution_count": 17,
     "metadata": {},
     "output_type": "execute_result"
    }
   ],
   "source": [
    "class AgentState(TypedDict):\n",
    "    messages : Annotated[list,add_messages]\n",
    "\n",
    "@tool\n",
    "def save_file(text: AgentState):\n",
    "    \"\"\"Save text messages to a file named 'read.txt'.\"\"\"\n",
    "    with open('read.txt', 'w') as file:\n",
    "        # Ensure each message ends with a newline\n",
    "        lines = [msg if msg.endswith('\\n') else msg + '\\n' for msg in text['messages']]\n",
    "        file.writelines(lines)\n",
    "    return text\n",
    "\n",
    "\n",
    "\n",
    "llm=llm.bind_tools([save_file,add,subtract,multiply])\n",
    "print(llm)\n",
    "def chatbot(state:AgentState):\n",
    "    system_prompt=SystemMessage(content='You are a helpful AI assistant.')\n",
    "    return {'messages':[llm.invoke([system_prompt]+state['messages'])]}\n",
    "    \n",
    "\n",
    "\n",
    "\n",
    "graph=StateGraph(AgentState)\n",
    "graph.add_node(\"chatbot\",chatbot)\n",
    "graph.add_node('tools',ToolNode(tools=[save_file]))\n",
    "graph.set_entry_point('chatbot')\n",
    "graph.add_conditional_edges('chatbot',\n",
    "                            tools_condition)\n",
    "graph.add_edge('tools','chatbot')\n",
    "\n",
    "checkpointer = InMemorySaver()\n",
    "app = graph.compile(checkpointer=checkpointer)\n",
    "app "
   ]
  },
  {
   "cell_type": "code",
   "execution_count": 18,
   "id": "88cc5d50",
   "metadata": {},
   "outputs": [
    {
     "name": "stdout",
     "output_type": "stream",
     "text": [
      "================================\u001b[1m Human Message \u001b[0m=================================\n",
      "\n",
      "add 5 and 32\n",
      "==================================\u001b[1m Ai Message \u001b[0m==================================\n",
      "Tool Calls:\n",
      "  add (r2narmyvv)\n",
      " Call ID: r2narmyvv\n",
      "  Args:\n",
      "    a: 5\n",
      "    b: 32\n",
      "=================================\u001b[1m Tool Message \u001b[0m=================================\n",
      "Name: add\n",
      "\n",
      "Error: add is not a valid tool, try one of [save_file].\n",
      "==================================\u001b[1m Ai Message \u001b[0m==================================\n",
      "Tool Calls:\n",
      "  add (wg01enszh)\n",
      " Call ID: wg01enszh\n",
      "  Args:\n",
      "    a: 5\n",
      "    b: 32\n",
      "=================================\u001b[1m Tool Message \u001b[0m=================================\n",
      "Name: add\n",
      "\n",
      "Error: add is not a valid tool, try one of [save_file].\n",
      "==================================\u001b[1m Ai Message \u001b[0m==================================\n",
      "Tool Calls:\n",
      "  add (448yk9m6x)\n",
      " Call ID: 448yk9m6x\n",
      "  Args:\n",
      "    a: 5\n",
      "    b: 32\n",
      "=================================\u001b[1m Tool Message \u001b[0m=================================\n",
      "Name: add\n",
      "\n",
      "Error: add is not a valid tool, try one of [save_file].\n",
      "==================================\u001b[1m Ai Message \u001b[0m==================================\n",
      "Tool Calls:\n",
      "  multiply (1wk3ymyts)\n",
      " Call ID: 1wk3ymyts\n",
      "  Args:\n",
      "    a: 5\n",
      "    b: 32\n",
      "=================================\u001b[1m Tool Message \u001b[0m=================================\n",
      "Name: multiply\n",
      "\n",
      "Error: multiply is not a valid tool, try one of [save_file].\n",
      "==================================\u001b[1m Ai Message \u001b[0m==================================\n",
      "Tool Calls:\n",
      "  subtract (y6y3va2jj)\n",
      " Call ID: y6y3va2jj\n",
      "  Args:\n",
      "    a: 32\n",
      "    b: 5\n",
      "=================================\u001b[1m Tool Message \u001b[0m=================================\n",
      "Name: subtract\n",
      "\n",
      "Error: subtract is not a valid tool, try one of [save_file].\n",
      "==================================\u001b[1m Ai Message \u001b[0m==================================\n",
      "\n",
      "The result of adding 5 and 32 is 37.\n"
     ]
    }
   ],
   "source": [
    "config = {\"configurable\": {\"thread_id\": 1}}\n",
    "dssd=app.invoke({'messages':'add 5 and 32'},config)\n",
    "for i in dssd['messages']:\n",
    "    i.pretty_print()"
   ]
  },
  {
   "cell_type": "code",
   "execution_count": null,
   "id": "7194961a",
   "metadata": {},
   "outputs": [],
   "source": []
  },
  {
   "cell_type": "markdown",
   "id": "c1502fd0",
   "metadata": {},
   "source": [
    "## Agentic RAG"
   ]
  },
  {
   "cell_type": "code",
   "execution_count": 4,
   "id": "5d61e09f",
   "metadata": {},
   "outputs": [],
   "source": [
    "url=\"https://engineering.careers360.com/articles/jee-advanced-cutoff\"\n"
   ]
  },
  {
   "cell_type": "code",
   "execution_count": 3,
   "id": "a11934dc",
   "metadata": {},
   "outputs": [
    {
     "data": {
      "text/plain": [
       "25"
      ]
     },
     "execution_count": 3,
     "metadata": {},
     "output_type": "execute_result"
    }
   ],
   "source": [
    "import pandas as pd\n",
    "\n",
    "df=pd.read_html('https://engineering.careers360.com/articles/jee-advanced-cutoff',)\n",
    "len(df)"
   ]
  },
  {
   "cell_type": "code",
   "execution_count": 5,
   "id": "69711ddb",
   "metadata": {},
   "outputs": [
    {
     "name": "stdout",
     "output_type": "stream",
     "text": [
      "Found 25 tables at https://engineering.careers360.com/articles/jee-advanced-cutoff\n"
     ]
    }
   ],
   "source": [
    "import pandas as pd\n",
    "\n",
    "def get_tables_from_urls(url_list):\n",
    "    \"\"\"\n",
    "    Extract all tables from a list of URLs using pandas\n",
    "    Returns a list of DataFrames\n",
    "    \"\"\"\n",
    "    all_tables = []\n",
    "    \n",
    "    for url in url_list:\n",
    "        try:\n",
    "            # pandas.read_html returns a list of DataFrames\n",
    "            tables = pd.read_html(url)\n",
    "            print(f\"Found {len(tables)} tables at {url}\")\n",
    "            all_tables.extend(tables)\n",
    "        except Exception as e:\n",
    "            print(f\"Could not extract tables from {url}: {e}\")\n",
    "    \n",
    "    return all_tables\n",
    "\n",
    "# Example usage:\n",
    "urls = [url]\n",
    "tables = get_tables_from_urls(urls)"
   ]
  },
  {
   "cell_type": "code",
   "execution_count": 6,
   "id": "637140fb",
   "metadata": {},
   "outputs": [],
   "source": [
    "def clean_tables(tables):\n",
    "    \"\"\"\n",
    "    Clean the extracted tables with common pandas operations\n",
    "    \"\"\"\n",
    "    cleaned = []\n",
    "    \n",
    "    for i, table in enumerate(tables):\n",
    "        try:\n",
    "            # Basic cleaning steps\n",
    "            table = table.dropna(how='all')  # Drop completely empty rows\n",
    "            table = table.dropna(axis=1, how='all')  # Drop completely empty columns\n",
    "            table = table.fillna('')  # Fill remaining NaNs with empty strings\n",
    "            \n",
    "            # Convert all columns to string for consistent handling\n",
    "            table = table.astype(str)\n",
    "            \n",
    "            # Add metadata about the table structure\n",
    "            table.attrs['description'] = f\"Table with {len(table)} rows and {len(table.columns)} columns\"\n",
    "            \n",
    "            cleaned.append(table)\n",
    "        except Exception as e:\n",
    "            print(f\"Error cleaning table {i}: {e}\")\n",
    "    \n",
    "    return cleaned\n",
    "\n",
    "cleaned_tables = clean_tables(tables)"
   ]
  },
  {
   "cell_type": "code",
   "execution_count": 10,
   "id": "cba744ec",
   "metadata": {},
   "outputs": [],
   "source": [
    "from langchain_community.document_loaders import PyPDFLoader\n",
    "from langchain.text_splitter import RecursiveCharacterTextSplitter\n",
    "from langchain_community.vectorstores import Chroma"
   ]
  },
  {
   "cell_type": "code",
   "execution_count": null,
   "id": "923edf03",
   "metadata": {},
   "outputs": [
    {
     "name": "stdout",
     "output_type": "stream",
     "text": [
      "                                                   Institute                                  Academic Program Name Quota Seat Type                                Gender Opening Rank Closing Rank\n",
      "Dr. B R Ambedkar National Institute of Technology, Jalandhar       Bio Technology (4 Years, Bachelor of Technology)    HS      OPEN                        Gender-Neutral        62895        96223\n",
      "Dr. B R Ambedkar National Institute of Technology, Jalandhar       Bio Technology (4 Years, Bachelor of Tech\n"
     ]
    }
   ],
   "source": [
    "import pdfplumber\n",
    "import pandas as pd\n",
    "from langchain.schema import Document\n",
    "\n",
    "pdf_path = \"b7d2217256b11e333ac8ee3c90072ae1.pdf\"\n",
    "documents = []\n",
    "\n",
    "with pdfplumber.open(pdf_path) as pdf:\n",
    "    for i, page in enumerate(pdf.pages):\n",
    "        text = page.extract_text()\n",
    "        tables = page.extract_tables()\n",
    "\n",
    "        for table in tables:\n",
    "            df = pd.DataFrame(table[1:], columns=table[0])\n",
    "            table_text = df.to_string(index=False)\n",
    "            doc = Document(\n",
    "                page_content=table_text,\n",
    "                metadata={\"source\": pdf_path, \"page\": i + 1}\n",
    "            )\n",
    "            documents.append(doc)\n",
    "\n",
    "# Example usage\n",
    "print(documents[0].page_content[:500])\n",
    "\n",
    "splitter = RecursiveCharacterTextSplitter(\n",
    "    chunk_size=1000,\n",
    "    chunk_overlap=100,\n",
    "    separators=[\"\\n\\n\", \"\\n\", \" \", \"\"]\n",
    ")\n",
    "\n",
    "split_docs = splitter.split_documents(documents)\n",
    "print(f\"Split into {len(split_docs)} chunks.\")\n",
    "from langchain_huggingface import HuggingFaceEmbeddings\n",
    "\n",
    "embeddings = HuggingFaceEmbeddings(model_name=\"all-MiniLM-L6-v2\")\n",
    "vector_db = Chroma.from_documents(\n",
    "    documents=split_docs,\n",
    "    embedding=embeddings,\n",
    "    persist_directory=\"./chroma_db\")\n",
    "\n"
   ]
  },
  {
   "cell_type": "code",
   "execution_count": 13,
   "id": "0f84e9bf",
   "metadata": {},
   "outputs": [
    {
     "name": "stderr",
     "output_type": "stream",
     "text": [
      "e:\\Projects\\AI Agent\\agentic\\lib\\site-packages\\tqdm\\auto.py:21: TqdmWarning: IProgress not found. Please update jupyter and ipywidgets. See https://ipywidgets.readthedocs.io/en/stable/user_install.html\n",
      "  from .autonotebook import tqdm as notebook_tqdm\n"
     ]
    }
   ],
   "source": [
    "from langchain_huggingface import HuggingFaceEmbeddings\n",
    "embeddings = HuggingFaceEmbeddings(model_name=\"all-MiniLM-L6-v2\")"
   ]
  },
  {
   "cell_type": "code",
   "execution_count": 14,
   "id": "d07accc4",
   "metadata": {},
   "outputs": [
    {
     "name": "stderr",
     "output_type": "stream",
     "text": [
      "C:\\Users\\Aoutik Arya\\AppData\\Local\\Temp\\ipykernel_15544\\1779906881.py:1: LangChainDeprecationWarning: The class `Chroma` was deprecated in LangChain 0.2.9 and will be removed in 1.0. An updated version of the class exists in the :class:`~langchain-chroma package and should be used instead. To use it run `pip install -U :class:`~langchain-chroma` and import as `from :class:`~langchain_chroma import Chroma``.\n",
      "  vectordb = Chroma(persist_directory=\"chroma_db\", embedding_function=embeddings)\n"
     ]
    }
   ],
   "source": [
    "vectordb = Chroma(persist_directory=\"chroma_db\", embedding_function=embeddings)\n",
    "\n",
    "retriever = vectordb.as_retriever()\n",
    "\n",
    "# qa = RetrievalQA.from_chain_type(llm=llm, chain_type=\"stuff\", retriever=retriever)"
   ]
  },
  {
   "cell_type": "code",
   "execution_count": 13,
   "id": "27be5a49",
   "metadata": {},
   "outputs": [
    {
     "name": "stdout",
     "output_type": "stream",
     "text": [
      "bound=ChatGroq(client=<groq.resources.chat.completions.Completions object at 0x0000018923356D70>, async_client=<groq.resources.chat.completions.AsyncCompletions object at 0x0000018923354850>, model_name='llama-3.3-70b-versatile', model_kwargs={}, groq_api_key=SecretStr('**********')) kwargs={'tools': [{'type': 'function', 'function': {'name': 'jee_college', 'description': 'Get Jee college details based on rank', 'parameters': {'properties': {'query': {'type': 'string'}}, 'required': ['query'], 'type': 'object'}}}]} config={} config_factories=[]\n"
     ]
    },
    {
     "data": {
      "image/png": "[encoded data removed]",
      "text/plain": [
       "<langgraph.graph.state.CompiledStateGraph object at 0x00000189236C2050>"
      ]
     },
     "execution_count": 13,
     "metadata": {},
     "output_type": "execute_result"
    }
   ],
   "source": [
    "class AgentState(TypedDict):\n",
    "    messages : Annotated[list,add_messages]\n",
    "\n",
    "@tool\n",
    "def save_file(text: AgentState):\n",
    "    \"\"\"Save text messages to a file named 'read.txt'.\"\"\"\n",
    "    with open('read.txt', 'w') as file:\n",
    "        # Ensure each message ends with a newline\n",
    "        lines = [msg if msg.endswith('\\n') else msg + '\\n' for msg in text['messages']]\n",
    "        file.writelines(lines)\n",
    "    return text\n",
    "\n",
    "@tool\n",
    "def jee_college(query:str):\n",
    "    \"\"\"Get Jee college details based on rank\"\"\"\n",
    "    df=pd.read_html('https://engineering.careers360.com/articles/jee-advanced-cutoff')\n",
    "    print(df)\n",
    "    return df\n",
    "    \n",
    "\n",
    "\n",
    "llm=llm.bind_tools([jee_college])\n",
    "print(llm)\n",
    "def chatbot(state:AgentState):\n",
    "    system_prompt=SystemMessage(content='You are a helpful AI college assistant.Try to give college name based on rank')\n",
    "    return {'messages':[llm.invoke([system_prompt]+state['messages'])]}\n",
    "    \n",
    "\n",
    "\n",
    "\n",
    "graph=StateGraph(AgentState)\n",
    "graph.add_node(\"chatbot\",chatbot)\n",
    "graph.add_node('tools',ToolNode(tools=[save_file]))\n",
    "graph.set_entry_point('chatbot')\n",
    "graph.add_conditional_edges('chatbot',\n",
    "                            tools_condition)\n",
    "graph.add_edge('tools','chatbot')\n",
    "\n",
    "checkpointer = InMemorySaver()\n",
    "app = graph.compile(checkpointer=checkpointer)\n",
    "app "
   ]
  },
  {
   "cell_type": "code",
   "execution_count": 14,
   "id": "cd334e0f",
   "metadata": {},
   "outputs": [
    {
     "name": "stdout",
     "output_type": "stream",
     "text": [
      "================================\u001b[1m Human Message \u001b[0m=================================\n",
      "\n",
      "I got a rank of 2324 in jee advanced\n",
      "==================================\u001b[1m Ai Message \u001b[0m==================================\n",
      "Tool Calls:\n",
      "  jee_college (jb4c5s26k)\n",
      " Call ID: jb4c5s26k\n",
      "  Args:\n",
      "    query: 2324\n",
      "=================================\u001b[1m Tool Message \u001b[0m=================================\n",
      "Name: jee_college\n",
      "\n",
      "Error: jee_college is not a valid tool, try one of [save_file].\n",
      "==================================\u001b[1m Ai Message \u001b[0m==================================\n",
      "Tool Calls:\n",
      "  jee_college (1qq2gg09g)\n",
      " Call ID: 1qq2gg09g\n",
      "  Args:\n",
      "    query: 2324\n",
      "=================================\u001b[1m Tool Message \u001b[0m=================================\n",
      "Name: jee_college\n",
      "\n",
      "Error: jee_college is not a valid tool, try one of [save_file].\n",
      "==================================\u001b[1m Ai Message \u001b[0m==================================\n",
      "Tool Calls:\n",
      "  jee_college (4ez67r0bm)\n",
      " Call ID: 4ez67r0bm\n",
      "  Args:\n",
      "    query: 2324\n",
      "=================================\u001b[1m Tool Message \u001b[0m=================================\n",
      "Name: jee_college\n",
      "\n",
      "Error: jee_college is not a valid tool, try one of [save_file].\n",
      "==================================\u001b[1m Ai Message \u001b[0m==================================\n",
      "\n",
      "Based on the JEE Advanced rank of 2324, some possible college options could be:\n",
      "\n",
      "* National Institute of Technology (NIT) Warangal\n",
      "* National Institute of Technology (NIT) Calicut\n",
      "* Indian Institute of Information Technology (IIIT) Allahabad\n",
      "* Indian Institute of Technology (IIT) Gandhinagar\n",
      "* Indian Institute of Technology (IIT) Hyderabad\n",
      "\n",
      "Please note that the actual college and branch allocation may vary depending on various factors such as category, home state, and availability of seats. It's recommended to check the official JEE Advanced website or consult with a college counselor for more accurate information.\n"
     ]
    }
   ],
   "source": [
    "config = {\"configurable\": {\"thread_id\": 1}}\n",
    "response=app.invoke({\"messages\":\"I got a rank of 2324 in jee advanced\"},config)\n",
    "for i in response['messages']:\n",
    "    i.pretty_print()"
   ]
  }
 ],
 "metadata": {
  "kernelspec": {
   "display_name": "agentic",
   "language": "python",
   "name": "python3"
  },
  "language_info": {
   "codemirror_mode": {
    "name": "ipython",
    "version": 3
   },
   "file_extension": ".py",
   "mimetype": "text/x-python",
   "name": "python",
   "nbconvert_exporter": "python",
   "pygments_lexer": "ipython3",
   "version": "3.10.7"
  }
 },
 "nbformat": 4,
 "nbformat_minor": 5
}
