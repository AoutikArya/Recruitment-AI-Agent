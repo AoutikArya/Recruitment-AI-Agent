{
 "cells": [
  {
   "cell_type": "code",
   "execution_count": null,
   "metadata": {},
   "outputs": [],
   "source": [
    "from typing import TypedDict, Dict,List\n",
    "import math\n",
    "from langgraph.graph import StateGraph,START,END\n",
    "import random"
   ]
  },
  {
   "cell_type": "markdown",
   "metadata": {},
   "source": [
    "## Graph1"
   ]
  },
  {
   "cell_type": "code",
   "execution_count": 2,
   "metadata": {},
   "outputs": [],
   "source": [
    "class AgentState(TypedDict):\n",
    "    message:str\n",
    "\n",
    "def greeting_node(state:AgentState)-> AgentState:\n",
    "    \"\"\"Simple node that adds greeting to the state.\"\"\"\n",
    "    state['message']=\"Hi \"+state['message']+\",Hope you are doing?\"\n",
    "    return state\n",
    "def compliment_node(state:AgentState)-> AgentState:\n",
    "    \"\"\"Simple node that adds compliment to the state.\"\"\"\n",
    "    state['message']=state['message']+\", you're doing an amazing job learning LangGraph!\"\n",
    "    return state"
   ]
  },
  {
   "cell_type": "code",
   "execution_count": 3,
   "metadata": {},
   "outputs": [
    {
     "data": {
      "image/png": "[encoded data removed]",
      "text/plain": [
       "<langgraph.graph.state.CompiledStateGraph object at 0x000001EF13FE74C0>"
      ]
     },
     "execution_count": 3,
     "metadata": {},
     "output_type": "execute_result"
    }
   ],
   "source": [
    "graph=StateGraph(AgentState)\n",
    "graph.add_node(\"greeting\",greeting_node)\n",
    "graph.add_node(\"compliment\",compliment_node)\n",
    "graph.set_entry_point('greeting')\n",
    "graph.add_edge('greeting','compliment')\n",
    "\n",
    "graph.set_finish_point('compliment')\n",
    "app=graph.compile()\n",
    "app"
   ]
  },
  {
   "cell_type": "code",
   "execution_count": 4,
   "metadata": {},
   "outputs": [
    {
     "data": {
      "text/plain": [
       "{'message': \"Hi Aoutik,Hope you are doing?, you're doing an amazing job learning LangGraph!\"}"
      ]
     },
     "execution_count": 4,
     "metadata": {},
     "output_type": "execute_result"
    }
   ],
   "source": [
    "app.invoke({'message':'Aoutik'})"
   ]
  },
  {
   "cell_type": "markdown",
   "metadata": {},
   "source": [
    "## Graph2\n"
   ]
  },
  {
   "cell_type": "code",
   "execution_count": 5,
   "metadata": {},
   "outputs": [],
   "source": [
    "class AgentState(TypedDict):\n",
    "    \n",
    "    name:str\n",
    "    values: List[int]\n",
    "    operation:str\n",
    "    result:str\n",
    "\n",
    "def process(state:AgentState)->AgentState:\n",
    "    \"\"\"\"Process node\"\"\"\n",
    "    if state['operation']==\"+\":\n",
    "        state['result']='Hi '+state['name']+\", your answer is:\"+ str(sum(state['values']))\n",
    "    elif  state['operation']==\"*\":\n",
    "        state['result']='Hi '+state['name']+\", your answer is:\"+ str(math.prod(state['values']))\n",
    "    return state\n",
    "\n",
    "\n"
   ]
  },
  {
   "cell_type": "code",
   "execution_count": 6,
   "metadata": {},
   "outputs": [
    {
     "data": {
      "image/png": "[encoded data removed]",
      "text/plain": [
       "<langgraph.graph.state.CompiledStateGraph object at 0x000001EF13FE7370>"
      ]
     },
     "execution_count": 6,
     "metadata": {},
     "output_type": "execute_result"
    }
   ],
   "source": [
    "graph=StateGraph(AgentState)\n",
    "graph.add_node(\"processing\",process)\n",
    "graph.set_entry_point('processing')\n",
    "\n",
    "graph.set_finish_point('processing')\n",
    "app=graph.compile()\n",
    "app"
   ]
  },
  {
   "cell_type": "code",
   "execution_count": 7,
   "metadata": {},
   "outputs": [
    {
     "data": {
      "text/plain": [
       "'Hi Jack Sparrow, your answer is:10'"
      ]
     },
     "execution_count": 7,
     "metadata": {},
     "output_type": "execute_result"
    }
   ],
   "source": [
    "app.invoke({'name':'Jack Sparrow','values':[1,2,3,4],'operation':'+'})['result']"
   ]
  },
  {
   "cell_type": "markdown",
   "metadata": {},
   "source": [
    "## Graph 4"
   ]
  },
  {
   "cell_type": "code",
   "execution_count": 41,
   "metadata": {},
   "outputs": [],
   "source": [
    "class AgentState(TypedDict):\n",
    "    number1: int\n",
    "    operation: str\n",
    "    number2: int\n",
    "    number3:int\n",
    "    operation2:str\n",
    "    number4 : int\n",
    "    finalnumber1: int\n",
    "    finalnumber2 : int\n",
    "\n",
    "\n",
    "\n",
    "\n",
    "def addition(state:AgentState)-> AgentState:\n",
    "    \"\"\"Addition of two numbers\"\"\"\n",
    "    state['finalnumber1']=state['number1']+state['number2']\n",
    "    \n",
    "    return state\n",
    "def addition2(state:AgentState)-> AgentState:\n",
    "    \"\"\"Addition of two numbers\"\"\"\n",
    "    state['finalnumber2']=state['number3']+state['number4']\n",
    "    \n",
    "    return state\n",
    "\n",
    "def subtract(state:AgentState)->AgentState:\n",
    "    \"\"\"Subtraction of two numbers\"\"\"\n",
    "    state['finalnumber1']=state['number1']-state['number2']\n",
    "    \n",
    "    return state\n",
    "def subtract2(state:AgentState)->AgentState:\n",
    "    \"\"\"Subtraction of two numbers\"\"\"\n",
    "    state['finalnumber2']=state['number3']-state['number4']\n",
    "    \n",
    "    return state\n",
    "    \n",
    "def next_node(state:AgentState)-> AgentState:\n",
    "    \"\"\"This will select the next node of the graph\"\"\"\n",
    "    if state['operation']==\"+\":\n",
    "        return 'addition_operation'\n",
    "    elif state['operation']==\"-\":\n",
    "        return 'subtraction_operation'\n",
    "\n",
    "def next_node2(state:AgentState)-> AgentState:\n",
    "    \"\"\"This will select the next node of the graph\"\"\"\n",
    "    if state['operation2']==\"+\":\n",
    "        return 'addition_operation2'\n",
    "    elif state['operation2']==\"-\":\n",
    "        return 'subtraction_operation2'\n"
   ]
  },
  {
   "cell_type": "code",
   "execution_count": 43,
   "metadata": {},
   "outputs": [
    {
     "data": {
      "image/png": "[encoded data removed]",
      "text/plain": [
       "<langgraph.graph.state.CompiledStateGraph object at 0x000001EF168D8310>"
      ]
     },
     "execution_count": 43,
     "metadata": {},
     "output_type": "execute_result"
    }
   ],
   "source": [
    "graph=StateGraph(AgentState)\n",
    "graph.add_node('add',addition)\n",
    "graph.add_node('subtract',subtract)\n",
    "graph.add_node('add2',addition2)\n",
    "graph.add_node('subtract2',subtract2)\n",
    "graph.add_node('router',lambda state:state)\n",
    "graph.add_node('router2',lambda state:state)\n",
    "\n",
    "graph.add_edge(START,'router')\n",
    "\n",
    "graph.add_conditional_edges('router',\n",
    "                            next_node,\n",
    "                            {'addition_operation':'add',\n",
    "                             'subtraction_operation':'subtract'})\n",
    "\n",
    "graph.add_edge('add','router2')\n",
    "graph.add_edge('subtract','router2')\n",
    "\n",
    "graph.add_conditional_edges('router2',\n",
    "                            next_node2,\n",
    "                            {'addition_operation2':'add2',\n",
    "                             'subtraction_operation2':'subtract2'})\n",
    "\n",
    "app=graph.compile()\n",
    "app"
   ]
  },
  {
   "cell_type": "code",
   "execution_count": 48,
   "metadata": {},
   "outputs": [
    {
     "data": {
      "text/plain": [
       "{'number1': 43,\n",
       " 'operation': '-',\n",
       " 'number2': 12,\n",
       " 'number3': 23,\n",
       " 'operation2': '+',\n",
       " 'number4': 53,\n",
       " 'finalnumber1': 31,\n",
       " 'finalnumber2': 76}"
      ]
     },
     "execution_count": 48,
     "metadata": {},
     "output_type": "execute_result"
    }
   ],
   "source": [
    "app.invoke({'number1':43,'number2':12,'operation':'-','number3':23,'operation2':'+','number4':53})"
   ]
  },
  {
   "cell_type": "markdown",
   "metadata": {},
   "source": [
    "## Graph5"
   ]
  },
  {
   "cell_type": "code",
   "execution_count": 63,
   "metadata": {},
   "outputs": [],
   "source": [
    "class AgentState(TypedDict):\n",
    "    \n",
    "    name:str\n",
    "    number: List[int]\n",
    "    counter: int\n",
    "\n",
    "def greeting_node(state:AgentState)-> AgentState:\n",
    "    \"\"\"Simple node that adds greeting to the state.\"\"\"\n",
    "    state['name']=\"Hi \"+state['name']+\",Hope you are doing?\"\n",
    "    state['counter']=0\n",
    "    return state\n",
    "\n",
    "def random_number(state:AgentState)-> AgentState:\n",
    "    \"\"\"Generate random numbers\"\"\"\n",
    "    \n",
    "    state['number'].append(random.randint(0,10))\n",
    "    state['counter']+=1\n",
    "    return state\n",
    "\n",
    "def loop_condition(state:AgentState)->AgentState:\n",
    "    \"\"\"check condition for loop\"\"\"\n",
    "    if state['counter']<5:\n",
    "        return 'loop'\n",
    "    else:\n",
    "        return 'exit'\n",
    "\n"
   ]
  },
  {
   "cell_type": "code",
   "execution_count": 64,
   "metadata": {},
   "outputs": [
    {
     "data": {
      "image/png": "[encoded data removed]",
      "text/plain": [
       "<langgraph.graph.state.CompiledStateGraph object at 0x000001EF181B1E40>"
      ]
     },
     "execution_count": 64,
     "metadata": {},
     "output_type": "execute_result"
    }
   ],
   "source": [
    "graph=StateGraph(AgentState)\n",
    "graph.add_node('gr',greeting_node)\n",
    "graph.add_node('random',random_number)\n",
    "graph.add_edge('gr','random')\n",
    "\n",
    "graph.add_conditional_edges('random',\n",
    "                            loop_condition,\n",
    "                            {'loop':'random',\n",
    "                             'exit':END})\n",
    "graph.add_edge(START,'gr')\n",
    "app=graph.compile()\n",
    "app"
   ]
  },
  {
   "cell_type": "code",
   "execution_count": 67,
   "metadata": {},
   "outputs": [
    {
     "data": {
      "text/plain": [
       "{'name': 'Hi Aoutik,Hope you are doing?',\n",
       " 'number': [10, 4, 8, 3, 4],\n",
       " 'counter': 5}"
      ]
     },
     "execution_count": 67,
     "metadata": {},
     "output_type": "execute_result"
    }
   ],
   "source": [
    "app.invoke({'name':'Aoutik','number':[],'counter':3})"
   ]
  },
  {
   "cell_type": "code",
   "execution_count": null,
   "metadata": {},
   "outputs": [],
   "source": []
  },
  {
   "cell_type": "code",
   "execution_count": null,
   "metadata": {},
   "outputs": [],
   "source": []
  }
 ],
 "metadata": {
  "kernelspec": {
   "display_name": "agentic",
   "language": "python",
   "name": "python3"
  },
  "language_info": {
   "codemirror_mode": {
    "name": "ipython",
    "version": 3
   },
   "file_extension": ".py",
   "mimetype": "text/x-python",
   "name": "python",
   "nbconvert_exporter": "python",
   "pygments_lexer": "ipython3",
   "version": "3.10.7"
  }
 },
 "nbformat": 4,
 "nbformat_minor": 2
}
